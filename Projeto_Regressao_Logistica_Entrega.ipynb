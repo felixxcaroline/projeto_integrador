{
 "cells": [
  {
   "cell_type": "markdown",
   "metadata": {
    "id": "YT8bNnWN_0uk"
   },
   "source": [
    "### 1. Importando Bibliotecas"
   ]
  },
  {
   "cell_type": "code",
   "execution_count": 16,
   "metadata": {
    "id": "n1PgJVPYPjBT"
   },
   "outputs": [],
   "source": [
    "import pandas as pd\n",
    "import numpy as np\n",
    "import seaborn as sns\n",
    "import matplotlib.pyplot as plt\n",
    "from sklearn import metrics\n",
    "from sklearn.model_selection import train_test_split\n",
    "from sklearn.linear_model import LogisticRegression\n",
    "from sklearn.metrics import confusion_matrix\n",
    "import matplotlib\n",
    "import statsmodels.api as sm\n",
    "import scipy\n",
    "from statsmodels.graphics.gofplots import qqplot\n",
    "from statsmodels.stats.outliers_influence import variance_inflation_factor \n",
    "from sklearn.metrics import r2_score, mean_squared_error\n",
    "from sklearn.preprocessing import OneHotEncoder, MinMaxScaler\n",
    "from sklearn.pipeline import Pipeline\n",
    "from sklearn.metrics import auc, precision_recall_curve, log_loss,confusion_matrix, recall_score, precision_score\n",
    "from sklearn.compose import ColumnTransformer\n",
    "from scipy.stats import loguniform\n",
    "from sklearn.model_selection import RepeatedStratifiedKFold\n",
    "from sklearn.model_selection import RandomizedSearchCV"
   ]
  },
  {
   "cell_type": "markdown",
   "metadata": {
    "id": "OulqS5WGAAT8"
   },
   "source": [
    "### 2. Importando Base:"
   ]
  },
  {
   "cell_type": "code",
   "execution_count": null,
   "metadata": {
    "colab": {
     "base_uri": "https://localhost:8080/"
    },
    "id": "F9hc0jIM1uZz",
    "outputId": "9a0815a4-4caf-466f-ab01-02ab5019551f"
   },
   "outputs": [
    {
     "name": "stdout",
     "output_type": "stream",
     "text": [
      "Mounted at /content/drive\n"
     ]
    }
   ],
   "source": [
    "from google.colab import drive\n",
    "drive.mount('/content/drive')"
   ]
  },
  {
   "cell_type": "code",
   "execution_count": 17,
   "metadata": {
    "colab": {
     "base_uri": "https://localhost:8080/"
    },
    "id": "tpdZ5HjGP78F",
    "outputId": "6366bf76-f749-461f-d5a6-5dcec4dace59"
   },
   "outputs": [
    {
     "name": "stdout",
     "output_type": "stream",
     "text": [
      "<class 'pandas.core.frame.DataFrame'>\n",
      "RangeIndex: 134235 entries, 0 to 134234\n",
      "Data columns (total 25 columns):\n",
      " #   Column              Non-Null Count   Dtype  \n",
      "---  ------              --------------   -----  \n",
      " 0   MESREF_NUM          134235 non-null  int64  \n",
      " 1   VLR_ENTRADA         134235 non-null  float64\n",
      " 2   VLR_FINANCIADO      134235 non-null  float64\n",
      " 3   DOWN_PAYMENT        134235 non-null  float64\n",
      " 4   RANGE_DOWN_PAYMENT  134235 non-null  object \n",
      " 5   QTD_PRAZO           134235 non-null  int64  \n",
      " 6   QTD_PRAZO_AGRP      134235 non-null  object \n",
      " 7   MODELO_AGRP         134235 non-null  object \n",
      " 8   ESTADO_VEICULO      134235 non-null  object \n",
      " 9   ANO_FABRIC          134235 non-null  int64  \n",
      " 10  FL_TCM              134235 non-null  int64  \n",
      " 11  NS_RANGE_REGIAO     134235 non-null  object \n",
      " 12  NS_PONTUACAO_CRIVO  134025 non-null  float64\n",
      " 13  NS_RATING_CRIVO     134235 non-null  object \n",
      " 14  GRUPO_LOJAS         134235 non-null  object \n",
      " 15  VLR_VEIC            134235 non-null  float64\n",
      " 16  SCORE_PONTOS        134025 non-null  float64\n",
      " 17  max_atraso          134235 non-null  int64  \n",
      " 18  FX_MAX_ATRASO       134235 non-null  object \n",
      " 19  MOB_FINAL_CONTRATO  134235 non-null  int64  \n",
      " 20  STATUS_CONTRATO     134235 non-null  object \n",
      " 21  CONTR_NEW           134235 non-null  int64  \n",
      " 22  TIPO_PROD           134235 non-null  object \n",
      " 23  DELTA_MOB           134235 non-null  int64  \n",
      " 24  IDADE_VEIC          134235 non-null  int64  \n",
      "dtypes: float64(6), int64(9), object(10)\n",
      "memory usage: 25.6+ MB\n"
     ]
    }
   ],
   "source": [
    "df_contratos = pd.read_csv('BASE_FINAL_5.csv', sep=',', decimal='.')\n",
    "df_contratos.info()"
   ]
  },
  {
   "cell_type": "code",
   "execution_count": 18,
   "metadata": {
    "colab": {
     "base_uri": "https://localhost:8080/",
     "height": 522
    },
    "id": "bCalLtw7QhfW",
    "outputId": "4f6692f9-c2eb-4118-9b53-11e14b3ea758"
   },
   "outputs": [
    {
     "data": {
      "text/html": [
       "<div>\n",
       "<style scoped>\n",
       "    .dataframe tbody tr th:only-of-type {\n",
       "        vertical-align: middle;\n",
       "    }\n",
       "\n",
       "    .dataframe tbody tr th {\n",
       "        vertical-align: top;\n",
       "    }\n",
       "\n",
       "    .dataframe thead th {\n",
       "        text-align: right;\n",
       "    }\n",
       "</style>\n",
       "<table border=\"1\" class=\"dataframe\">\n",
       "  <thead>\n",
       "    <tr style=\"text-align: right;\">\n",
       "      <th></th>\n",
       "      <th>MESREF_NUM</th>\n",
       "      <th>VLR_ENTRADA</th>\n",
       "      <th>VLR_FINANCIADO</th>\n",
       "      <th>DOWN_PAYMENT</th>\n",
       "      <th>RANGE_DOWN_PAYMENT</th>\n",
       "      <th>QTD_PRAZO</th>\n",
       "      <th>QTD_PRAZO_AGRP</th>\n",
       "      <th>MODELO_AGRP</th>\n",
       "      <th>ESTADO_VEICULO</th>\n",
       "      <th>ANO_FABRIC</th>\n",
       "      <th>...</th>\n",
       "      <th>VLR_VEIC</th>\n",
       "      <th>SCORE_PONTOS</th>\n",
       "      <th>max_atraso</th>\n",
       "      <th>FX_MAX_ATRASO</th>\n",
       "      <th>MOB_FINAL_CONTRATO</th>\n",
       "      <th>STATUS_CONTRATO</th>\n",
       "      <th>CONTR_NEW</th>\n",
       "      <th>TIPO_PROD</th>\n",
       "      <th>DELTA_MOB</th>\n",
       "      <th>IDADE_VEIC</th>\n",
       "    </tr>\n",
       "  </thead>\n",
       "  <tbody>\n",
       "    <tr>\n",
       "      <th>0</th>\n",
       "      <td>201804</td>\n",
       "      <td>28650.0</td>\n",
       "      <td>21980.19</td>\n",
       "      <td>0.57</td>\n",
       "      <td>51-60</td>\n",
       "      <td>24</td>\n",
       "      <td>13-24</td>\n",
       "      <td>Etios</td>\n",
       "      <td>N</td>\n",
       "      <td>2019</td>\n",
       "      <td>...</td>\n",
       "      <td>50630.19</td>\n",
       "      <td>995.0</td>\n",
       "      <td>0</td>\n",
       "      <td>0. 00 dpd</td>\n",
       "      <td>21</td>\n",
       "      <td>LIQUIDADO</td>\n",
       "      <td>5318042</td>\n",
       "      <td>CDC</td>\n",
       "      <td>-3</td>\n",
       "      <td>0</td>\n",
       "    </tr>\n",
       "    <tr>\n",
       "      <th>1</th>\n",
       "      <td>201804</td>\n",
       "      <td>50557.9</td>\n",
       "      <td>25186.80</td>\n",
       "      <td>0.67</td>\n",
       "      <td>61-80</td>\n",
       "      <td>36</td>\n",
       "      <td>25-36</td>\n",
       "      <td>Corolla</td>\n",
       "      <td>N</td>\n",
       "      <td>2019</td>\n",
       "      <td>...</td>\n",
       "      <td>75744.70</td>\n",
       "      <td>993.0</td>\n",
       "      <td>0</td>\n",
       "      <td>0. 00 dpd</td>\n",
       "      <td>27</td>\n",
       "      <td>LIQUIDADO</td>\n",
       "      <td>5318080</td>\n",
       "      <td>CDC</td>\n",
       "      <td>-9</td>\n",
       "      <td>0</td>\n",
       "    </tr>\n",
       "    <tr>\n",
       "      <th>2</th>\n",
       "      <td>201804</td>\n",
       "      <td>21000.0</td>\n",
       "      <td>54979.00</td>\n",
       "      <td>0.28</td>\n",
       "      <td>26-30</td>\n",
       "      <td>36</td>\n",
       "      <td>25-36</td>\n",
       "      <td>Etios</td>\n",
       "      <td>N</td>\n",
       "      <td>2019</td>\n",
       "      <td>...</td>\n",
       "      <td>75979.00</td>\n",
       "      <td>984.0</td>\n",
       "      <td>0</td>\n",
       "      <td>0. 00 dpd</td>\n",
       "      <td>35</td>\n",
       "      <td>LIQUIDADO</td>\n",
       "      <td>5319022</td>\n",
       "      <td>CICLO</td>\n",
       "      <td>-1</td>\n",
       "      <td>0</td>\n",
       "    </tr>\n",
       "    <tr>\n",
       "      <th>3</th>\n",
       "      <td>201804</td>\n",
       "      <td>30000.0</td>\n",
       "      <td>25579.99</td>\n",
       "      <td>0.54</td>\n",
       "      <td>51-60</td>\n",
       "      <td>24</td>\n",
       "      <td>13-24</td>\n",
       "      <td>Etios</td>\n",
       "      <td>N</td>\n",
       "      <td>2019</td>\n",
       "      <td>...</td>\n",
       "      <td>55579.99</td>\n",
       "      <td>995.0</td>\n",
       "      <td>2</td>\n",
       "      <td>1. 01-15 dpd</td>\n",
       "      <td>23</td>\n",
       "      <td>LIQUIDADO</td>\n",
       "      <td>5319628</td>\n",
       "      <td>CICLO</td>\n",
       "      <td>-1</td>\n",
       "      <td>0</td>\n",
       "    </tr>\n",
       "    <tr>\n",
       "      <th>4</th>\n",
       "      <td>201804</td>\n",
       "      <td>39938.5</td>\n",
       "      <td>46953.10</td>\n",
       "      <td>0.46</td>\n",
       "      <td>41-50</td>\n",
       "      <td>36</td>\n",
       "      <td>25-36</td>\n",
       "      <td>Corolla</td>\n",
       "      <td>N</td>\n",
       "      <td>2018</td>\n",
       "      <td>...</td>\n",
       "      <td>86891.60</td>\n",
       "      <td>976.0</td>\n",
       "      <td>0</td>\n",
       "      <td>0. 00 dpd</td>\n",
       "      <td>35</td>\n",
       "      <td>LIQUIDADO</td>\n",
       "      <td>5319914</td>\n",
       "      <td>CDC</td>\n",
       "      <td>-1</td>\n",
       "      <td>0</td>\n",
       "    </tr>\n",
       "    <tr>\n",
       "      <th>...</th>\n",
       "      <td>...</td>\n",
       "      <td>...</td>\n",
       "      <td>...</td>\n",
       "      <td>...</td>\n",
       "      <td>...</td>\n",
       "      <td>...</td>\n",
       "      <td>...</td>\n",
       "      <td>...</td>\n",
       "      <td>...</td>\n",
       "      <td>...</td>\n",
       "      <td>...</td>\n",
       "      <td>...</td>\n",
       "      <td>...</td>\n",
       "      <td>...</td>\n",
       "      <td>...</td>\n",
       "      <td>...</td>\n",
       "      <td>...</td>\n",
       "      <td>...</td>\n",
       "      <td>...</td>\n",
       "      <td>...</td>\n",
       "      <td>...</td>\n",
       "    </tr>\n",
       "    <tr>\n",
       "      <th>134230</th>\n",
       "      <td>202112</td>\n",
       "      <td>81380.0</td>\n",
       "      <td>100643.67</td>\n",
       "      <td>0.45</td>\n",
       "      <td>41-50</td>\n",
       "      <td>36</td>\n",
       "      <td>25-36</td>\n",
       "      <td>Corolla</td>\n",
       "      <td>N</td>\n",
       "      <td>2022</td>\n",
       "      <td>...</td>\n",
       "      <td>182023.67</td>\n",
       "      <td>990.0</td>\n",
       "      <td>1</td>\n",
       "      <td>1. 01-15 dpd</td>\n",
       "      <td>3</td>\n",
       "      <td>LIQUIDADO</td>\n",
       "      <td>7148891</td>\n",
       "      <td>CDC</td>\n",
       "      <td>-33</td>\n",
       "      <td>0</td>\n",
       "    </tr>\n",
       "    <tr>\n",
       "      <th>134231</th>\n",
       "      <td>202112</td>\n",
       "      <td>55000.0</td>\n",
       "      <td>44634.59</td>\n",
       "      <td>0.55</td>\n",
       "      <td>51-60</td>\n",
       "      <td>36</td>\n",
       "      <td>25-36</td>\n",
       "      <td>Outros</td>\n",
       "      <td>U</td>\n",
       "      <td>2020</td>\n",
       "      <td>...</td>\n",
       "      <td>99634.59</td>\n",
       "      <td>977.0</td>\n",
       "      <td>0</td>\n",
       "      <td>0. 00 dpd</td>\n",
       "      <td>0</td>\n",
       "      <td>LIQUIDADO</td>\n",
       "      <td>7148995</td>\n",
       "      <td>CDC</td>\n",
       "      <td>-36</td>\n",
       "      <td>1</td>\n",
       "    </tr>\n",
       "    <tr>\n",
       "      <th>134232</th>\n",
       "      <td>202112</td>\n",
       "      <td>68900.0</td>\n",
       "      <td>108472.47</td>\n",
       "      <td>0.39</td>\n",
       "      <td>31-40</td>\n",
       "      <td>60</td>\n",
       "      <td>49-60</td>\n",
       "      <td>Corolla Cross</td>\n",
       "      <td>N</td>\n",
       "      <td>2022</td>\n",
       "      <td>...</td>\n",
       "      <td>177372.47</td>\n",
       "      <td>952.0</td>\n",
       "      <td>29</td>\n",
       "      <td>2. 16-30 dpd</td>\n",
       "      <td>2</td>\n",
       "      <td>LIQUIDADO</td>\n",
       "      <td>7149058</td>\n",
       "      <td>CDC</td>\n",
       "      <td>-58</td>\n",
       "      <td>0</td>\n",
       "    </tr>\n",
       "    <tr>\n",
       "      <th>134233</th>\n",
       "      <td>202112</td>\n",
       "      <td>130000.0</td>\n",
       "      <td>72576.45</td>\n",
       "      <td>0.64</td>\n",
       "      <td>61-80</td>\n",
       "      <td>24</td>\n",
       "      <td>13-24</td>\n",
       "      <td>Corolla Cross</td>\n",
       "      <td>N</td>\n",
       "      <td>2022</td>\n",
       "      <td>...</td>\n",
       "      <td>202576.45</td>\n",
       "      <td>980.0</td>\n",
       "      <td>1</td>\n",
       "      <td>1. 01-15 dpd</td>\n",
       "      <td>3</td>\n",
       "      <td>LIQUIDADO</td>\n",
       "      <td>7149588</td>\n",
       "      <td>CDC</td>\n",
       "      <td>-21</td>\n",
       "      <td>0</td>\n",
       "    </tr>\n",
       "    <tr>\n",
       "      <th>134234</th>\n",
       "      <td>202112</td>\n",
       "      <td>40500.0</td>\n",
       "      <td>30099.23</td>\n",
       "      <td>0.57</td>\n",
       "      <td>51-60</td>\n",
       "      <td>60</td>\n",
       "      <td>49-60</td>\n",
       "      <td>Yaris</td>\n",
       "      <td>U</td>\n",
       "      <td>2019</td>\n",
       "      <td>...</td>\n",
       "      <td>70599.23</td>\n",
       "      <td>974.0</td>\n",
       "      <td>0</td>\n",
       "      <td>0. 00 dpd</td>\n",
       "      <td>2</td>\n",
       "      <td>LIQUIDADO</td>\n",
       "      <td>7150841</td>\n",
       "      <td>CDC</td>\n",
       "      <td>-58</td>\n",
       "      <td>2</td>\n",
       "    </tr>\n",
       "  </tbody>\n",
       "</table>\n",
       "<p>134235 rows × 25 columns</p>\n",
       "</div>"
      ],
      "text/plain": [
       "        MESREF_NUM  VLR_ENTRADA  VLR_FINANCIADO  DOWN_PAYMENT  \\\n",
       "0           201804      28650.0        21980.19          0.57   \n",
       "1           201804      50557.9        25186.80          0.67   \n",
       "2           201804      21000.0        54979.00          0.28   \n",
       "3           201804      30000.0        25579.99          0.54   \n",
       "4           201804      39938.5        46953.10          0.46   \n",
       "...            ...          ...             ...           ...   \n",
       "134230      202112      81380.0       100643.67          0.45   \n",
       "134231      202112      55000.0        44634.59          0.55   \n",
       "134232      202112      68900.0       108472.47          0.39   \n",
       "134233      202112     130000.0        72576.45          0.64   \n",
       "134234      202112      40500.0        30099.23          0.57   \n",
       "\n",
       "       RANGE_DOWN_PAYMENT  QTD_PRAZO QTD_PRAZO_AGRP    MODELO_AGRP  \\\n",
       "0                   51-60         24          13-24          Etios   \n",
       "1                   61-80         36          25-36        Corolla   \n",
       "2                   26-30         36          25-36          Etios   \n",
       "3                   51-60         24          13-24          Etios   \n",
       "4                   41-50         36          25-36        Corolla   \n",
       "...                   ...        ...            ...            ...   \n",
       "134230              41-50         36          25-36        Corolla   \n",
       "134231              51-60         36          25-36         Outros   \n",
       "134232              31-40         60          49-60  Corolla Cross   \n",
       "134233              61-80         24          13-24  Corolla Cross   \n",
       "134234              51-60         60          49-60          Yaris   \n",
       "\n",
       "       ESTADO_VEICULO  ANO_FABRIC  ...   VLR_VEIC SCORE_PONTOS  max_atraso  \\\n",
       "0                   N        2019  ...   50630.19        995.0           0   \n",
       "1                   N        2019  ...   75744.70        993.0           0   \n",
       "2                   N        2019  ...   75979.00        984.0           0   \n",
       "3                   N        2019  ...   55579.99        995.0           2   \n",
       "4                   N        2018  ...   86891.60        976.0           0   \n",
       "...               ...         ...  ...        ...          ...         ...   \n",
       "134230              N        2022  ...  182023.67        990.0           1   \n",
       "134231              U        2020  ...   99634.59        977.0           0   \n",
       "134232              N        2022  ...  177372.47        952.0          29   \n",
       "134233              N        2022  ...  202576.45        980.0           1   \n",
       "134234              U        2019  ...   70599.23        974.0           0   \n",
       "\n",
       "       FX_MAX_ATRASO MOB_FINAL_CONTRATO  STATUS_CONTRATO  CONTR_NEW  \\\n",
       "0          0. 00 dpd                 21        LIQUIDADO    5318042   \n",
       "1          0. 00 dpd                 27        LIQUIDADO    5318080   \n",
       "2          0. 00 dpd                 35        LIQUIDADO    5319022   \n",
       "3       1. 01-15 dpd                 23        LIQUIDADO    5319628   \n",
       "4          0. 00 dpd                 35        LIQUIDADO    5319914   \n",
       "...              ...                ...              ...        ...   \n",
       "134230  1. 01-15 dpd                  3        LIQUIDADO    7148891   \n",
       "134231     0. 00 dpd                  0        LIQUIDADO    7148995   \n",
       "134232  2. 16-30 dpd                  2        LIQUIDADO    7149058   \n",
       "134233  1. 01-15 dpd                  3        LIQUIDADO    7149588   \n",
       "134234     0. 00 dpd                  2        LIQUIDADO    7150841   \n",
       "\n",
       "        TIPO_PROD DELTA_MOB  IDADE_VEIC  \n",
       "0             CDC        -3           0  \n",
       "1             CDC        -9           0  \n",
       "2           CICLO        -1           0  \n",
       "3           CICLO        -1           0  \n",
       "4             CDC        -1           0  \n",
       "...           ...       ...         ...  \n",
       "134230        CDC       -33           0  \n",
       "134231        CDC       -36           1  \n",
       "134232        CDC       -58           0  \n",
       "134233        CDC       -21           0  \n",
       "134234        CDC       -58           2  \n",
       "\n",
       "[134235 rows x 25 columns]"
      ]
     },
     "execution_count": 18,
     "metadata": {},
     "output_type": "execute_result"
    }
   ],
   "source": [
    "df_contratos"
   ]
  },
  {
   "cell_type": "markdown",
   "metadata": {
    "id": "6hnJ1JkmAgsn"
   },
   "source": [
    "### 3. Análise Exploratória e Limpeza dos Dados"
   ]
  },
  {
   "cell_type": "markdown",
   "metadata": {
    "id": "aVHHgxiE3bOQ"
   },
   "source": [
    "Gerando coluna com percentual de antecipação"
   ]
  },
  {
   "cell_type": "code",
   "execution_count": 19,
   "metadata": {
    "id": "XDp53sRZSc8p"
   },
   "outputs": [],
   "source": [
    "df_contratos['DELTA_MOB_PERC']= 100*df_contratos['DELTA_MOB']/df_contratos['QTD_PRAZO']"
   ]
  },
  {
   "cell_type": "markdown",
   "metadata": {
    "id": "lrla_KfA3jo-"
   },
   "source": [
    "Eliminando clientes que atrasaram em mais que 25% do tempo a liquidação do contrato"
   ]
  },
  {
   "cell_type": "code",
   "execution_count": 20,
   "metadata": {
    "id": "M-QEisWFTckc"
   },
   "outputs": [],
   "source": [
    "df_contratos = df_contratos[df_contratos['DELTA_MOB_PERC']<25]"
   ]
  },
  {
   "cell_type": "markdown",
   "metadata": {
    "id": "UWf3Pkag3rjj"
   },
   "source": [
    "Histograma do mob percentual"
   ]
  },
  {
   "cell_type": "code",
   "execution_count": 21,
   "metadata": {
    "colab": {
     "base_uri": "https://localhost:8080/",
     "height": 317
    },
    "id": "0Akm62vZS4Qn",
    "outputId": "41fbf2b7-eff5-443c-d3b3-6e518aef323a"
   },
   "outputs": [
    {
     "data": {
      "text/plain": [
       "(array([50805., 80806.]),\n",
       " array([-100.        ,  -38.33333333,   23.33333333]),\n",
       " <a list of 2 Patch objects>)"
      ]
     },
     "execution_count": 21,
     "metadata": {},
     "output_type": "execute_result"
    },
    {
     "data": {
      "image/png": "[encoded data removed]",
      "text/plain": [
       "<Figure size 432x288 with 1 Axes>"
      ]
     },
     "metadata": {
      "needs_background": "light"
     },
     "output_type": "display_data"
    }
   ],
   "source": [
    "plt.hist(df_contratos['DELTA_MOB_PERC'],bins=2)"
   ]
  },
  {
   "cell_type": "markdown",
   "metadata": {
    "id": "xreXsrAh3xgD"
   },
   "source": [
    "Clientes que pagaram com menos que 10% de antecipação"
   ]
  },
  {
   "cell_type": "code",
   "execution_count": 22,
   "metadata": {
    "colab": {
     "base_uri": "https://localhost:8080/",
     "height": 488
    },
    "id": "CrTZVTMgWFxz",
    "outputId": "a98466b6-d779-495e-8438-eb7c9c34fcac"
   },
   "outputs": [
    {
     "data": {
      "text/html": [
       "<div>\n",
       "<style scoped>\n",
       "    .dataframe tbody tr th:only-of-type {\n",
       "        vertical-align: middle;\n",
       "    }\n",
       "\n",
       "    .dataframe tbody tr th {\n",
       "        vertical-align: top;\n",
       "    }\n",
       "\n",
       "    .dataframe thead th {\n",
       "        text-align: right;\n",
       "    }\n",
       "</style>\n",
       "<table border=\"1\" class=\"dataframe\">\n",
       "  <thead>\n",
       "    <tr style=\"text-align: right;\">\n",
       "      <th></th>\n",
       "      <th>MESREF_NUM</th>\n",
       "      <th>VLR_ENTRADA</th>\n",
       "      <th>VLR_FINANCIADO</th>\n",
       "      <th>DOWN_PAYMENT</th>\n",
       "      <th>RANGE_DOWN_PAYMENT</th>\n",
       "      <th>QTD_PRAZO</th>\n",
       "      <th>QTD_PRAZO_AGRP</th>\n",
       "      <th>MODELO_AGRP</th>\n",
       "      <th>ESTADO_VEICULO</th>\n",
       "      <th>ANO_FABRIC</th>\n",
       "      <th>...</th>\n",
       "      <th>SCORE_PONTOS</th>\n",
       "      <th>max_atraso</th>\n",
       "      <th>FX_MAX_ATRASO</th>\n",
       "      <th>MOB_FINAL_CONTRATO</th>\n",
       "      <th>STATUS_CONTRATO</th>\n",
       "      <th>CONTR_NEW</th>\n",
       "      <th>TIPO_PROD</th>\n",
       "      <th>DELTA_MOB</th>\n",
       "      <th>IDADE_VEIC</th>\n",
       "      <th>DELTA_MOB_PERC</th>\n",
       "    </tr>\n",
       "  </thead>\n",
       "  <tbody>\n",
       "    <tr>\n",
       "      <th>2</th>\n",
       "      <td>201804</td>\n",
       "      <td>21000.0</td>\n",
       "      <td>54979.00</td>\n",
       "      <td>0.28</td>\n",
       "      <td>26-30</td>\n",
       "      <td>36</td>\n",
       "      <td>25-36</td>\n",
       "      <td>Etios</td>\n",
       "      <td>N</td>\n",
       "      <td>2019</td>\n",
       "      <td>...</td>\n",
       "      <td>984.0</td>\n",
       "      <td>0</td>\n",
       "      <td>0. 00 dpd</td>\n",
       "      <td>35</td>\n",
       "      <td>LIQUIDADO</td>\n",
       "      <td>5319022</td>\n",
       "      <td>CICLO</td>\n",
       "      <td>-1</td>\n",
       "      <td>0</td>\n",
       "      <td>-2.777778</td>\n",
       "    </tr>\n",
       "    <tr>\n",
       "      <th>3</th>\n",
       "      <td>201804</td>\n",
       "      <td>30000.0</td>\n",
       "      <td>25579.99</td>\n",
       "      <td>0.54</td>\n",
       "      <td>51-60</td>\n",
       "      <td>24</td>\n",
       "      <td>13-24</td>\n",
       "      <td>Etios</td>\n",
       "      <td>N</td>\n",
       "      <td>2019</td>\n",
       "      <td>...</td>\n",
       "      <td>995.0</td>\n",
       "      <td>2</td>\n",
       "      <td>1. 01-15 dpd</td>\n",
       "      <td>23</td>\n",
       "      <td>LIQUIDADO</td>\n",
       "      <td>5319628</td>\n",
       "      <td>CICLO</td>\n",
       "      <td>-1</td>\n",
       "      <td>0</td>\n",
       "      <td>-4.166667</td>\n",
       "    </tr>\n",
       "    <tr>\n",
       "      <th>4</th>\n",
       "      <td>201804</td>\n",
       "      <td>39938.5</td>\n",
       "      <td>46953.10</td>\n",
       "      <td>0.46</td>\n",
       "      <td>41-50</td>\n",
       "      <td>36</td>\n",
       "      <td>25-36</td>\n",
       "      <td>Corolla</td>\n",
       "      <td>N</td>\n",
       "      <td>2018</td>\n",
       "      <td>...</td>\n",
       "      <td>976.0</td>\n",
       "      <td>0</td>\n",
       "      <td>0. 00 dpd</td>\n",
       "      <td>35</td>\n",
       "      <td>LIQUIDADO</td>\n",
       "      <td>5319914</td>\n",
       "      <td>CDC</td>\n",
       "      <td>-1</td>\n",
       "      <td>0</td>\n",
       "      <td>-2.777778</td>\n",
       "    </tr>\n",
       "    <tr>\n",
       "      <th>5</th>\n",
       "      <td>201804</td>\n",
       "      <td>60000.0</td>\n",
       "      <td>30188.74</td>\n",
       "      <td>0.67</td>\n",
       "      <td>61-80</td>\n",
       "      <td>18</td>\n",
       "      <td>13-24</td>\n",
       "      <td>Corolla</td>\n",
       "      <td>N</td>\n",
       "      <td>2018</td>\n",
       "      <td>...</td>\n",
       "      <td>997.0</td>\n",
       "      <td>0</td>\n",
       "      <td>0. 00 dpd</td>\n",
       "      <td>17</td>\n",
       "      <td>LIQUIDADO</td>\n",
       "      <td>5320058</td>\n",
       "      <td>CDC</td>\n",
       "      <td>-1</td>\n",
       "      <td>0</td>\n",
       "      <td>-5.555556</td>\n",
       "    </tr>\n",
       "    <tr>\n",
       "      <th>7</th>\n",
       "      <td>201804</td>\n",
       "      <td>135650.0</td>\n",
       "      <td>107777.64</td>\n",
       "      <td>0.56</td>\n",
       "      <td>51-60</td>\n",
       "      <td>24</td>\n",
       "      <td>13-24</td>\n",
       "      <td>SW4</td>\n",
       "      <td>N</td>\n",
       "      <td>2018</td>\n",
       "      <td>...</td>\n",
       "      <td>997.0</td>\n",
       "      <td>11</td>\n",
       "      <td>1. 01-15 dpd</td>\n",
       "      <td>24</td>\n",
       "      <td>LIQUIDADO</td>\n",
       "      <td>5320363</td>\n",
       "      <td>CDC</td>\n",
       "      <td>0</td>\n",
       "      <td>0</td>\n",
       "      <td>0.000000</td>\n",
       "    </tr>\n",
       "    <tr>\n",
       "      <th>...</th>\n",
       "      <td>...</td>\n",
       "      <td>...</td>\n",
       "      <td>...</td>\n",
       "      <td>...</td>\n",
       "      <td>...</td>\n",
       "      <td>...</td>\n",
       "      <td>...</td>\n",
       "      <td>...</td>\n",
       "      <td>...</td>\n",
       "      <td>...</td>\n",
       "      <td>...</td>\n",
       "      <td>...</td>\n",
       "      <td>...</td>\n",
       "      <td>...</td>\n",
       "      <td>...</td>\n",
       "      <td>...</td>\n",
       "      <td>...</td>\n",
       "      <td>...</td>\n",
       "      <td>...</td>\n",
       "      <td>...</td>\n",
       "      <td>...</td>\n",
       "    </tr>\n",
       "    <tr>\n",
       "      <th>133907</th>\n",
       "      <td>202111</td>\n",
       "      <td>202189.0</td>\n",
       "      <td>102097.28</td>\n",
       "      <td>0.66</td>\n",
       "      <td>61-80</td>\n",
       "      <td>4</td>\n",
       "      <td>00-12</td>\n",
       "      <td>Hilux</td>\n",
       "      <td>N</td>\n",
       "      <td>2021</td>\n",
       "      <td>...</td>\n",
       "      <td>984.0</td>\n",
       "      <td>2</td>\n",
       "      <td>1. 01-15 dpd</td>\n",
       "      <td>4</td>\n",
       "      <td>LIQUIDADO</td>\n",
       "      <td>7103506</td>\n",
       "      <td>CDC</td>\n",
       "      <td>0</td>\n",
       "      <td>0</td>\n",
       "      <td>0.000000</td>\n",
       "    </tr>\n",
       "    <tr>\n",
       "      <th>133932</th>\n",
       "      <td>202111</td>\n",
       "      <td>299000.0</td>\n",
       "      <td>21321.32</td>\n",
       "      <td>0.93</td>\n",
       "      <td>&gt;80</td>\n",
       "      <td>1</td>\n",
       "      <td>00-12</td>\n",
       "      <td>Hilux</td>\n",
       "      <td>N</td>\n",
       "      <td>2022</td>\n",
       "      <td>...</td>\n",
       "      <td>992.0</td>\n",
       "      <td>5</td>\n",
       "      <td>1. 01-15 dpd</td>\n",
       "      <td>1</td>\n",
       "      <td>LIQUIDADO</td>\n",
       "      <td>7105704</td>\n",
       "      <td>CDC</td>\n",
       "      <td>0</td>\n",
       "      <td>0</td>\n",
       "      <td>0.000000</td>\n",
       "    </tr>\n",
       "    <tr>\n",
       "      <th>133974</th>\n",
       "      <td>202112</td>\n",
       "      <td>220000.0</td>\n",
       "      <td>103491.41</td>\n",
       "      <td>0.68</td>\n",
       "      <td>61-80</td>\n",
       "      <td>3</td>\n",
       "      <td>00-12</td>\n",
       "      <td>Hilux</td>\n",
       "      <td>N</td>\n",
       "      <td>2022</td>\n",
       "      <td>...</td>\n",
       "      <td>795.0</td>\n",
       "      <td>15</td>\n",
       "      <td>1. 01-15 dpd</td>\n",
       "      <td>3</td>\n",
       "      <td>LIQUIDADO</td>\n",
       "      <td>7110263</td>\n",
       "      <td>CDC</td>\n",
       "      <td>0</td>\n",
       "      <td>0</td>\n",
       "      <td>0.000000</td>\n",
       "    </tr>\n",
       "    <tr>\n",
       "      <th>133975</th>\n",
       "      <td>202111</td>\n",
       "      <td>132000.0</td>\n",
       "      <td>10832.03</td>\n",
       "      <td>0.92</td>\n",
       "      <td>&gt;80</td>\n",
       "      <td>1</td>\n",
       "      <td>00-12</td>\n",
       "      <td>Corolla</td>\n",
       "      <td>N</td>\n",
       "      <td>2022</td>\n",
       "      <td>...</td>\n",
       "      <td>880.0</td>\n",
       "      <td>1</td>\n",
       "      <td>1. 01-15 dpd</td>\n",
       "      <td>1</td>\n",
       "      <td>LIQUIDADO</td>\n",
       "      <td>7110273</td>\n",
       "      <td>CDC</td>\n",
       "      <td>0</td>\n",
       "      <td>0</td>\n",
       "      <td>0.000000</td>\n",
       "    </tr>\n",
       "    <tr>\n",
       "      <th>134194</th>\n",
       "      <td>202112</td>\n",
       "      <td>396790.0</td>\n",
       "      <td>11257.49</td>\n",
       "      <td>0.97</td>\n",
       "      <td>&gt;80</td>\n",
       "      <td>1</td>\n",
       "      <td>00-12</td>\n",
       "      <td>SW4</td>\n",
       "      <td>N</td>\n",
       "      <td>2022</td>\n",
       "      <td>...</td>\n",
       "      <td>961.0</td>\n",
       "      <td>2</td>\n",
       "      <td>1. 01-15 dpd</td>\n",
       "      <td>1</td>\n",
       "      <td>LIQUIDADO</td>\n",
       "      <td>7142875</td>\n",
       "      <td>CDC</td>\n",
       "      <td>0</td>\n",
       "      <td>0</td>\n",
       "      <td>0.000000</td>\n",
       "    </tr>\n",
       "  </tbody>\n",
       "</table>\n",
       "<p>52707 rows × 26 columns</p>\n",
       "</div>"
      ],
      "text/plain": [
       "        MESREF_NUM  VLR_ENTRADA  VLR_FINANCIADO  DOWN_PAYMENT  \\\n",
       "2           201804      21000.0        54979.00          0.28   \n",
       "3           201804      30000.0        25579.99          0.54   \n",
       "4           201804      39938.5        46953.10          0.46   \n",
       "5           201804      60000.0        30188.74          0.67   \n",
       "7           201804     135650.0       107777.64          0.56   \n",
       "...            ...          ...             ...           ...   \n",
       "133907      202111     202189.0       102097.28          0.66   \n",
       "133932      202111     299000.0        21321.32          0.93   \n",
       "133974      202112     220000.0       103491.41          0.68   \n",
       "133975      202111     132000.0        10832.03          0.92   \n",
       "134194      202112     396790.0        11257.49          0.97   \n",
       "\n",
       "       RANGE_DOWN_PAYMENT  QTD_PRAZO QTD_PRAZO_AGRP MODELO_AGRP  \\\n",
       "2                   26-30         36          25-36       Etios   \n",
       "3                   51-60         24          13-24       Etios   \n",
       "4                   41-50         36          25-36     Corolla   \n",
       "5                   61-80         18          13-24     Corolla   \n",
       "7                   51-60         24          13-24         SW4   \n",
       "...                   ...        ...            ...         ...   \n",
       "133907              61-80          4          00-12       Hilux   \n",
       "133932                >80          1          00-12       Hilux   \n",
       "133974              61-80          3          00-12       Hilux   \n",
       "133975                >80          1          00-12     Corolla   \n",
       "134194                >80          1          00-12         SW4   \n",
       "\n",
       "       ESTADO_VEICULO  ANO_FABRIC  ...  SCORE_PONTOS max_atraso  \\\n",
       "2                   N        2019  ...         984.0          0   \n",
       "3                   N        2019  ...         995.0          2   \n",
       "4                   N        2018  ...         976.0          0   \n",
       "5                   N        2018  ...         997.0          0   \n",
       "7                   N        2018  ...         997.0         11   \n",
       "...               ...         ...  ...           ...        ...   \n",
       "133907              N        2021  ...         984.0          2   \n",
       "133932              N        2022  ...         992.0          5   \n",
       "133974              N        2022  ...         795.0         15   \n",
       "133975              N        2022  ...         880.0          1   \n",
       "134194              N        2022  ...         961.0          2   \n",
       "\n",
       "        FX_MAX_ATRASO MOB_FINAL_CONTRATO STATUS_CONTRATO  CONTR_NEW  \\\n",
       "2           0. 00 dpd                 35       LIQUIDADO    5319022   \n",
       "3        1. 01-15 dpd                 23       LIQUIDADO    5319628   \n",
       "4           0. 00 dpd                 35       LIQUIDADO    5319914   \n",
       "5           0. 00 dpd                 17       LIQUIDADO    5320058   \n",
       "7        1. 01-15 dpd                 24       LIQUIDADO    5320363   \n",
       "...               ...                ...             ...        ...   \n",
       "133907   1. 01-15 dpd                  4       LIQUIDADO    7103506   \n",
       "133932   1. 01-15 dpd                  1       LIQUIDADO    7105704   \n",
       "133974   1. 01-15 dpd                  3       LIQUIDADO    7110263   \n",
       "133975   1. 01-15 dpd                  1       LIQUIDADO    7110273   \n",
       "134194   1. 01-15 dpd                  1       LIQUIDADO    7142875   \n",
       "\n",
       "        TIPO_PROD  DELTA_MOB IDADE_VEIC  DELTA_MOB_PERC  \n",
       "2           CICLO         -1          0       -2.777778  \n",
       "3           CICLO         -1          0       -4.166667  \n",
       "4             CDC         -1          0       -2.777778  \n",
       "5             CDC         -1          0       -5.555556  \n",
       "7             CDC          0          0        0.000000  \n",
       "...           ...        ...        ...             ...  \n",
       "133907        CDC          0          0        0.000000  \n",
       "133932        CDC          0          0        0.000000  \n",
       "133974        CDC          0          0        0.000000  \n",
       "133975        CDC          0          0        0.000000  \n",
       "134194        CDC          0          0        0.000000  \n",
       "\n",
       "[52707 rows x 26 columns]"
      ]
     },
     "execution_count": 22,
     "metadata": {},
     "output_type": "execute_result"
    }
   ],
   "source": [
    "df_contratos[df_contratos['DELTA_MOB_PERC']>-10]"
   ]
  },
  {
   "cell_type": "markdown",
   "metadata": {
    "id": "LpjF9u7g4BbE"
   },
   "source": [
    "Dropando contratos com score nulo"
   ]
  },
  {
   "cell_type": "code",
   "execution_count": 23,
   "metadata": {
    "id": "RZo3CMNjSIs6"
   },
   "outputs": [],
   "source": [
    "df_contratos = df_contratos[df_contratos['SCORE_PONTOS'] != 0]"
   ]
  },
  {
   "cell_type": "markdown",
   "metadata": {
    "id": "qxE8Xrlu4Eln"
   },
   "source": [
    "Dropando linhas com valores nulos"
   ]
  },
  {
   "cell_type": "code",
   "execution_count": 24,
   "metadata": {
    "id": "UTEWZV2OyGaa"
   },
   "outputs": [],
   "source": [
    "df_contratos.dropna( inplace=True)"
   ]
  },
  {
   "cell_type": "markdown",
   "metadata": {
    "id": "GnYdNLiP4KYW"
   },
   "source": [
    "Criando condições das categorias"
   ]
  },
  {
   "cell_type": "code",
   "execution_count": 25,
   "metadata": {
    "id": "kgPMNeUPqZJp"
   },
   "outputs": [],
   "source": [
    "CONDICOES = [\n",
    "    (df_contratos['DELTA_MOB_PERC']<-10),\n",
    "    (df_contratos['DELTA_MOB_PERC']>=-10)]"
   ]
  },
  {
   "cell_type": "code",
   "execution_count": 26,
   "metadata": {
    "id": "5H23WtDnrL1T"
   },
   "outputs": [],
   "source": [
    "RESULTADO = ['ANTECIPOU MAIS QUE 10% DO TEMPO', 'ANTECIPOU MENOs QUE 10% DO TEMPO']"
   ]
  },
  {
   "cell_type": "markdown",
   "metadata": {
    "id": "FHUM2J3f4Nwx"
   },
   "source": [
    "Gerando categorias"
   ]
  },
  {
   "cell_type": "code",
   "execution_count": 27,
   "metadata": {
    "id": "b5q4R3Uerdfx"
   },
   "outputs": [],
   "source": [
    "df_contratos['CATEGORIAS_ANTECIPACAO'] = np.select(CONDICOES, RESULTADO)"
   ]
  },
  {
   "cell_type": "code",
   "execution_count": 28,
   "metadata": {
    "colab": {
     "base_uri": "https://localhost:8080/",
     "height": 661
    },
    "id": "JD3KOCk5rhin",
    "outputId": "5f2b3328-6c7f-403d-9f8d-919e9ef8d574"
   },
   "outputs": [
    {
     "data": {
      "text/html": [
       "<div>\n",
       "<style scoped>\n",
       "    .dataframe tbody tr th:only-of-type {\n",
       "        vertical-align: middle;\n",
       "    }\n",
       "\n",
       "    .dataframe tbody tr th {\n",
       "        vertical-align: top;\n",
       "    }\n",
       "\n",
       "    .dataframe thead th {\n",
       "        text-align: right;\n",
       "    }\n",
       "</style>\n",
       "<table border=\"1\" class=\"dataframe\">\n",
       "  <thead>\n",
       "    <tr style=\"text-align: right;\">\n",
       "      <th></th>\n",
       "      <th>MESREF_NUM</th>\n",
       "      <th>VLR_ENTRADA</th>\n",
       "      <th>VLR_FINANCIADO</th>\n",
       "      <th>DOWN_PAYMENT</th>\n",
       "      <th>RANGE_DOWN_PAYMENT</th>\n",
       "      <th>QTD_PRAZO</th>\n",
       "      <th>QTD_PRAZO_AGRP</th>\n",
       "      <th>MODELO_AGRP</th>\n",
       "      <th>ESTADO_VEICULO</th>\n",
       "      <th>ANO_FABRIC</th>\n",
       "      <th>...</th>\n",
       "      <th>max_atraso</th>\n",
       "      <th>FX_MAX_ATRASO</th>\n",
       "      <th>MOB_FINAL_CONTRATO</th>\n",
       "      <th>STATUS_CONTRATO</th>\n",
       "      <th>CONTR_NEW</th>\n",
       "      <th>TIPO_PROD</th>\n",
       "      <th>DELTA_MOB</th>\n",
       "      <th>IDADE_VEIC</th>\n",
       "      <th>DELTA_MOB_PERC</th>\n",
       "      <th>CATEGORIAS_ANTECIPACAO</th>\n",
       "    </tr>\n",
       "  </thead>\n",
       "  <tbody>\n",
       "    <tr>\n",
       "      <th>0</th>\n",
       "      <td>201804</td>\n",
       "      <td>28650.0</td>\n",
       "      <td>21980.19</td>\n",
       "      <td>0.57</td>\n",
       "      <td>51-60</td>\n",
       "      <td>24</td>\n",
       "      <td>13-24</td>\n",
       "      <td>Etios</td>\n",
       "      <td>N</td>\n",
       "      <td>2019</td>\n",
       "      <td>...</td>\n",
       "      <td>0</td>\n",
       "      <td>0. 00 dpd</td>\n",
       "      <td>21</td>\n",
       "      <td>LIQUIDADO</td>\n",
       "      <td>5318042</td>\n",
       "      <td>CDC</td>\n",
       "      <td>-3</td>\n",
       "      <td>0</td>\n",
       "      <td>-12.500000</td>\n",
       "      <td>ANTECIPOU MAIS QUE 10% DO TEMPO</td>\n",
       "    </tr>\n",
       "    <tr>\n",
       "      <th>1</th>\n",
       "      <td>201804</td>\n",
       "      <td>50557.9</td>\n",
       "      <td>25186.80</td>\n",
       "      <td>0.67</td>\n",
       "      <td>61-80</td>\n",
       "      <td>36</td>\n",
       "      <td>25-36</td>\n",
       "      <td>Corolla</td>\n",
       "      <td>N</td>\n",
       "      <td>2019</td>\n",
       "      <td>...</td>\n",
       "      <td>0</td>\n",
       "      <td>0. 00 dpd</td>\n",
       "      <td>27</td>\n",
       "      <td>LIQUIDADO</td>\n",
       "      <td>5318080</td>\n",
       "      <td>CDC</td>\n",
       "      <td>-9</td>\n",
       "      <td>0</td>\n",
       "      <td>-25.000000</td>\n",
       "      <td>ANTECIPOU MAIS QUE 10% DO TEMPO</td>\n",
       "    </tr>\n",
       "    <tr>\n",
       "      <th>2</th>\n",
       "      <td>201804</td>\n",
       "      <td>21000.0</td>\n",
       "      <td>54979.00</td>\n",
       "      <td>0.28</td>\n",
       "      <td>26-30</td>\n",
       "      <td>36</td>\n",
       "      <td>25-36</td>\n",
       "      <td>Etios</td>\n",
       "      <td>N</td>\n",
       "      <td>2019</td>\n",
       "      <td>...</td>\n",
       "      <td>0</td>\n",
       "      <td>0. 00 dpd</td>\n",
       "      <td>35</td>\n",
       "      <td>LIQUIDADO</td>\n",
       "      <td>5319022</td>\n",
       "      <td>CICLO</td>\n",
       "      <td>-1</td>\n",
       "      <td>0</td>\n",
       "      <td>-2.777778</td>\n",
       "      <td>ANTECIPOU MENOs QUE 10% DO TEMPO</td>\n",
       "    </tr>\n",
       "    <tr>\n",
       "      <th>3</th>\n",
       "      <td>201804</td>\n",
       "      <td>30000.0</td>\n",
       "      <td>25579.99</td>\n",
       "      <td>0.54</td>\n",
       "      <td>51-60</td>\n",
       "      <td>24</td>\n",
       "      <td>13-24</td>\n",
       "      <td>Etios</td>\n",
       "      <td>N</td>\n",
       "      <td>2019</td>\n",
       "      <td>...</td>\n",
       "      <td>2</td>\n",
       "      <td>1. 01-15 dpd</td>\n",
       "      <td>23</td>\n",
       "      <td>LIQUIDADO</td>\n",
       "      <td>5319628</td>\n",
       "      <td>CICLO</td>\n",
       "      <td>-1</td>\n",
       "      <td>0</td>\n",
       "      <td>-4.166667</td>\n",
       "      <td>ANTECIPOU MENOs QUE 10% DO TEMPO</td>\n",
       "    </tr>\n",
       "    <tr>\n",
       "      <th>4</th>\n",
       "      <td>201804</td>\n",
       "      <td>39938.5</td>\n",
       "      <td>46953.10</td>\n",
       "      <td>0.46</td>\n",
       "      <td>41-50</td>\n",
       "      <td>36</td>\n",
       "      <td>25-36</td>\n",
       "      <td>Corolla</td>\n",
       "      <td>N</td>\n",
       "      <td>2018</td>\n",
       "      <td>...</td>\n",
       "      <td>0</td>\n",
       "      <td>0. 00 dpd</td>\n",
       "      <td>35</td>\n",
       "      <td>LIQUIDADO</td>\n",
       "      <td>5319914</td>\n",
       "      <td>CDC</td>\n",
       "      <td>-1</td>\n",
       "      <td>0</td>\n",
       "      <td>-2.777778</td>\n",
       "      <td>ANTECIPOU MENOs QUE 10% DO TEMPO</td>\n",
       "    </tr>\n",
       "    <tr>\n",
       "      <th>...</th>\n",
       "      <td>...</td>\n",
       "      <td>...</td>\n",
       "      <td>...</td>\n",
       "      <td>...</td>\n",
       "      <td>...</td>\n",
       "      <td>...</td>\n",
       "      <td>...</td>\n",
       "      <td>...</td>\n",
       "      <td>...</td>\n",
       "      <td>...</td>\n",
       "      <td>...</td>\n",
       "      <td>...</td>\n",
       "      <td>...</td>\n",
       "      <td>...</td>\n",
       "      <td>...</td>\n",
       "      <td>...</td>\n",
       "      <td>...</td>\n",
       "      <td>...</td>\n",
       "      <td>...</td>\n",
       "      <td>...</td>\n",
       "      <td>...</td>\n",
       "    </tr>\n",
       "    <tr>\n",
       "      <th>134230</th>\n",
       "      <td>202112</td>\n",
       "      <td>81380.0</td>\n",
       "      <td>100643.67</td>\n",
       "      <td>0.45</td>\n",
       "      <td>41-50</td>\n",
       "      <td>36</td>\n",
       "      <td>25-36</td>\n",
       "      <td>Corolla</td>\n",
       "      <td>N</td>\n",
       "      <td>2022</td>\n",
       "      <td>...</td>\n",
       "      <td>1</td>\n",
       "      <td>1. 01-15 dpd</td>\n",
       "      <td>3</td>\n",
       "      <td>LIQUIDADO</td>\n",
       "      <td>7148891</td>\n",
       "      <td>CDC</td>\n",
       "      <td>-33</td>\n",
       "      <td>0</td>\n",
       "      <td>-91.666667</td>\n",
       "      <td>ANTECIPOU MAIS QUE 10% DO TEMPO</td>\n",
       "    </tr>\n",
       "    <tr>\n",
       "      <th>134231</th>\n",
       "      <td>202112</td>\n",
       "      <td>55000.0</td>\n",
       "      <td>44634.59</td>\n",
       "      <td>0.55</td>\n",
       "      <td>51-60</td>\n",
       "      <td>36</td>\n",
       "      <td>25-36</td>\n",
       "      <td>Outros</td>\n",
       "      <td>U</td>\n",
       "      <td>2020</td>\n",
       "      <td>...</td>\n",
       "      <td>0</td>\n",
       "      <td>0. 00 dpd</td>\n",
       "      <td>0</td>\n",
       "      <td>LIQUIDADO</td>\n",
       "      <td>7148995</td>\n",
       "      <td>CDC</td>\n",
       "      <td>-36</td>\n",
       "      <td>1</td>\n",
       "      <td>-100.000000</td>\n",
       "      <td>ANTECIPOU MAIS QUE 10% DO TEMPO</td>\n",
       "    </tr>\n",
       "    <tr>\n",
       "      <th>134232</th>\n",
       "      <td>202112</td>\n",
       "      <td>68900.0</td>\n",
       "      <td>108472.47</td>\n",
       "      <td>0.39</td>\n",
       "      <td>31-40</td>\n",
       "      <td>60</td>\n",
       "      <td>49-60</td>\n",
       "      <td>Corolla Cross</td>\n",
       "      <td>N</td>\n",
       "      <td>2022</td>\n",
       "      <td>...</td>\n",
       "      <td>29</td>\n",
       "      <td>2. 16-30 dpd</td>\n",
       "      <td>2</td>\n",
       "      <td>LIQUIDADO</td>\n",
       "      <td>7149058</td>\n",
       "      <td>CDC</td>\n",
       "      <td>-58</td>\n",
       "      <td>0</td>\n",
       "      <td>-96.666667</td>\n",
       "      <td>ANTECIPOU MAIS QUE 10% DO TEMPO</td>\n",
       "    </tr>\n",
       "    <tr>\n",
       "      <th>134233</th>\n",
       "      <td>202112</td>\n",
       "      <td>130000.0</td>\n",
       "      <td>72576.45</td>\n",
       "      <td>0.64</td>\n",
       "      <td>61-80</td>\n",
       "      <td>24</td>\n",
       "      <td>13-24</td>\n",
       "      <td>Corolla Cross</td>\n",
       "      <td>N</td>\n",
       "      <td>2022</td>\n",
       "      <td>...</td>\n",
       "      <td>1</td>\n",
       "      <td>1. 01-15 dpd</td>\n",
       "      <td>3</td>\n",
       "      <td>LIQUIDADO</td>\n",
       "      <td>7149588</td>\n",
       "      <td>CDC</td>\n",
       "      <td>-21</td>\n",
       "      <td>0</td>\n",
       "      <td>-87.500000</td>\n",
       "      <td>ANTECIPOU MAIS QUE 10% DO TEMPO</td>\n",
       "    </tr>\n",
       "    <tr>\n",
       "      <th>134234</th>\n",
       "      <td>202112</td>\n",
       "      <td>40500.0</td>\n",
       "      <td>30099.23</td>\n",
       "      <td>0.57</td>\n",
       "      <td>51-60</td>\n",
       "      <td>60</td>\n",
       "      <td>49-60</td>\n",
       "      <td>Yaris</td>\n",
       "      <td>U</td>\n",
       "      <td>2019</td>\n",
       "      <td>...</td>\n",
       "      <td>0</td>\n",
       "      <td>0. 00 dpd</td>\n",
       "      <td>2</td>\n",
       "      <td>LIQUIDADO</td>\n",
       "      <td>7150841</td>\n",
       "      <td>CDC</td>\n",
       "      <td>-58</td>\n",
       "      <td>2</td>\n",
       "      <td>-96.666667</td>\n",
       "      <td>ANTECIPOU MAIS QUE 10% DO TEMPO</td>\n",
       "    </tr>\n",
       "  </tbody>\n",
       "</table>\n",
       "<p>131419 rows × 27 columns</p>\n",
       "</div>"
      ],
      "text/plain": [
       "        MESREF_NUM  VLR_ENTRADA  VLR_FINANCIADO  DOWN_PAYMENT  \\\n",
       "0           201804      28650.0        21980.19          0.57   \n",
       "1           201804      50557.9        25186.80          0.67   \n",
       "2           201804      21000.0        54979.00          0.28   \n",
       "3           201804      30000.0        25579.99          0.54   \n",
       "4           201804      39938.5        46953.10          0.46   \n",
       "...            ...          ...             ...           ...   \n",
       "134230      202112      81380.0       100643.67          0.45   \n",
       "134231      202112      55000.0        44634.59          0.55   \n",
       "134232      202112      68900.0       108472.47          0.39   \n",
       "134233      202112     130000.0        72576.45          0.64   \n",
       "134234      202112      40500.0        30099.23          0.57   \n",
       "\n",
       "       RANGE_DOWN_PAYMENT  QTD_PRAZO QTD_PRAZO_AGRP    MODELO_AGRP  \\\n",
       "0                   51-60         24          13-24          Etios   \n",
       "1                   61-80         36          25-36        Corolla   \n",
       "2                   26-30         36          25-36          Etios   \n",
       "3                   51-60         24          13-24          Etios   \n",
       "4                   41-50         36          25-36        Corolla   \n",
       "...                   ...        ...            ...            ...   \n",
       "134230              41-50         36          25-36        Corolla   \n",
       "134231              51-60         36          25-36         Outros   \n",
       "134232              31-40         60          49-60  Corolla Cross   \n",
       "134233              61-80         24          13-24  Corolla Cross   \n",
       "134234              51-60         60          49-60          Yaris   \n",
       "\n",
       "       ESTADO_VEICULO  ANO_FABRIC  ...  max_atraso FX_MAX_ATRASO  \\\n",
       "0                   N        2019  ...           0     0. 00 dpd   \n",
       "1                   N        2019  ...           0     0. 00 dpd   \n",
       "2                   N        2019  ...           0     0. 00 dpd   \n",
       "3                   N        2019  ...           2  1. 01-15 dpd   \n",
       "4                   N        2018  ...           0     0. 00 dpd   \n",
       "...               ...         ...  ...         ...           ...   \n",
       "134230              N        2022  ...           1  1. 01-15 dpd   \n",
       "134231              U        2020  ...           0     0. 00 dpd   \n",
       "134232              N        2022  ...          29  2. 16-30 dpd   \n",
       "134233              N        2022  ...           1  1. 01-15 dpd   \n",
       "134234              U        2019  ...           0     0. 00 dpd   \n",
       "\n",
       "        MOB_FINAL_CONTRATO STATUS_CONTRATO CONTR_NEW  TIPO_PROD  DELTA_MOB  \\\n",
       "0                       21       LIQUIDADO   5318042        CDC         -3   \n",
       "1                       27       LIQUIDADO   5318080        CDC         -9   \n",
       "2                       35       LIQUIDADO   5319022      CICLO         -1   \n",
       "3                       23       LIQUIDADO   5319628      CICLO         -1   \n",
       "4                       35       LIQUIDADO   5319914        CDC         -1   \n",
       "...                    ...             ...       ...        ...        ...   \n",
       "134230                   3       LIQUIDADO   7148891        CDC        -33   \n",
       "134231                   0       LIQUIDADO   7148995        CDC        -36   \n",
       "134232                   2       LIQUIDADO   7149058        CDC        -58   \n",
       "134233                   3       LIQUIDADO   7149588        CDC        -21   \n",
       "134234                   2       LIQUIDADO   7150841        CDC        -58   \n",
       "\n",
       "        IDADE_VEIC DELTA_MOB_PERC            CATEGORIAS_ANTECIPACAO  \n",
       "0                0     -12.500000   ANTECIPOU MAIS QUE 10% DO TEMPO  \n",
       "1                0     -25.000000   ANTECIPOU MAIS QUE 10% DO TEMPO  \n",
       "2                0      -2.777778  ANTECIPOU MENOs QUE 10% DO TEMPO  \n",
       "3                0      -4.166667  ANTECIPOU MENOs QUE 10% DO TEMPO  \n",
       "4                0      -2.777778  ANTECIPOU MENOs QUE 10% DO TEMPO  \n",
       "...            ...            ...                               ...  \n",
       "134230           0     -91.666667   ANTECIPOU MAIS QUE 10% DO TEMPO  \n",
       "134231           1    -100.000000   ANTECIPOU MAIS QUE 10% DO TEMPO  \n",
       "134232           0     -96.666667   ANTECIPOU MAIS QUE 10% DO TEMPO  \n",
       "134233           0     -87.500000   ANTECIPOU MAIS QUE 10% DO TEMPO  \n",
       "134234           2     -96.666667   ANTECIPOU MAIS QUE 10% DO TEMPO  \n",
       "\n",
       "[131419 rows x 27 columns]"
      ]
     },
     "execution_count": 28,
     "metadata": {},
     "output_type": "execute_result"
    }
   ],
   "source": [
    "df_contratos"
   ]
  },
  {
   "cell_type": "markdown",
   "metadata": {
    "id": "2uwAzKTKBAMj"
   },
   "source": [
    "### 4. Preparação do Dataset para Modelagem"
   ]
  },
  {
   "cell_type": "markdown",
   "metadata": {
    "id": "k1UrVdXp4Yg-"
   },
   "source": [
    "Dividindo dataset em treino e teste"
   ]
  },
  {
   "cell_type": "code",
   "execution_count": 29,
   "metadata": {
    "id": "ZSda9W6AsSmS"
   },
   "outputs": [],
   "source": [
    "X, y = df_contratos.drop(['CATEGORIAS_ANTECIPACAO','RANGE_DOWN_PAYMENT','MESREF_NUM',\t'NS_PONTUACAO_CRIVO',\t'NS_RATING_CRIVO',\t'SCORE_PONTOS'\t,'VLR_ENTRADA','DELTA_MOB_PERC','VLR_FINANCIADO','QTD_PRAZO_AGRP','ANO_FABRIC','FX_MAX_ATRASO','CONTR_NEW','GRUPO_LOJAS','max_atraso','STATUS_CONTRATO','DELTA_MOB','FL_TCM','MOB_FINAL_CONTRATO','TIPO_PROD','VLR_VEIC'], axis=1), df_contratos['CATEGORIAS_ANTECIPACAO']\n",
    "X_train, X_test, y_train, y_test = train_test_split(X, y, test_size=0.35, random_state=123, stratify = y)"
   ]
  },
  {
   "cell_type": "code",
   "execution_count": 30,
   "metadata": {
    "colab": {
     "base_uri": "https://localhost:8080/",
     "height": 424
    },
    "id": "N5tMkP1a4Br5",
    "outputId": "7c8a457c-99b0-48b5-8676-8e90285c1ce0"
   },
   "outputs": [
    {
     "data": {
      "text/html": [
       "<div>\n",
       "<style scoped>\n",
       "    .dataframe tbody tr th:only-of-type {\n",
       "        vertical-align: middle;\n",
       "    }\n",
       "\n",
       "    .dataframe tbody tr th {\n",
       "        vertical-align: top;\n",
       "    }\n",
       "\n",
       "    .dataframe thead th {\n",
       "        text-align: right;\n",
       "    }\n",
       "</style>\n",
       "<table border=\"1\" class=\"dataframe\">\n",
       "  <thead>\n",
       "    <tr style=\"text-align: right;\">\n",
       "      <th></th>\n",
       "      <th>DOWN_PAYMENT</th>\n",
       "      <th>QTD_PRAZO</th>\n",
       "      <th>MODELO_AGRP</th>\n",
       "      <th>ESTADO_VEICULO</th>\n",
       "      <th>NS_RANGE_REGIAO</th>\n",
       "      <th>IDADE_VEIC</th>\n",
       "    </tr>\n",
       "  </thead>\n",
       "  <tbody>\n",
       "    <tr>\n",
       "      <th>0</th>\n",
       "      <td>0.57</td>\n",
       "      <td>24</td>\n",
       "      <td>Etios</td>\n",
       "      <td>N</td>\n",
       "      <td>Centro-Oeste</td>\n",
       "      <td>0</td>\n",
       "    </tr>\n",
       "    <tr>\n",
       "      <th>1</th>\n",
       "      <td>0.67</td>\n",
       "      <td>36</td>\n",
       "      <td>Corolla</td>\n",
       "      <td>N</td>\n",
       "      <td>Sudeste</td>\n",
       "      <td>0</td>\n",
       "    </tr>\n",
       "    <tr>\n",
       "      <th>2</th>\n",
       "      <td>0.28</td>\n",
       "      <td>36</td>\n",
       "      <td>Etios</td>\n",
       "      <td>N</td>\n",
       "      <td>Centro-Oeste</td>\n",
       "      <td>0</td>\n",
       "    </tr>\n",
       "    <tr>\n",
       "      <th>3</th>\n",
       "      <td>0.54</td>\n",
       "      <td>24</td>\n",
       "      <td>Etios</td>\n",
       "      <td>N</td>\n",
       "      <td>Nordeste</td>\n",
       "      <td>0</td>\n",
       "    </tr>\n",
       "    <tr>\n",
       "      <th>4</th>\n",
       "      <td>0.46</td>\n",
       "      <td>36</td>\n",
       "      <td>Corolla</td>\n",
       "      <td>N</td>\n",
       "      <td>Nordeste</td>\n",
       "      <td>0</td>\n",
       "    </tr>\n",
       "    <tr>\n",
       "      <th>...</th>\n",
       "      <td>...</td>\n",
       "      <td>...</td>\n",
       "      <td>...</td>\n",
       "      <td>...</td>\n",
       "      <td>...</td>\n",
       "      <td>...</td>\n",
       "    </tr>\n",
       "    <tr>\n",
       "      <th>134230</th>\n",
       "      <td>0.45</td>\n",
       "      <td>36</td>\n",
       "      <td>Corolla</td>\n",
       "      <td>N</td>\n",
       "      <td>Centro-Oeste</td>\n",
       "      <td>0</td>\n",
       "    </tr>\n",
       "    <tr>\n",
       "      <th>134231</th>\n",
       "      <td>0.55</td>\n",
       "      <td>36</td>\n",
       "      <td>Outros</td>\n",
       "      <td>U</td>\n",
       "      <td>Sul</td>\n",
       "      <td>1</td>\n",
       "    </tr>\n",
       "    <tr>\n",
       "      <th>134232</th>\n",
       "      <td>0.39</td>\n",
       "      <td>60</td>\n",
       "      <td>Corolla Cross</td>\n",
       "      <td>N</td>\n",
       "      <td>Nordeste</td>\n",
       "      <td>0</td>\n",
       "    </tr>\n",
       "    <tr>\n",
       "      <th>134233</th>\n",
       "      <td>0.64</td>\n",
       "      <td>24</td>\n",
       "      <td>Corolla Cross</td>\n",
       "      <td>N</td>\n",
       "      <td>Sudeste</td>\n",
       "      <td>0</td>\n",
       "    </tr>\n",
       "    <tr>\n",
       "      <th>134234</th>\n",
       "      <td>0.57</td>\n",
       "      <td>60</td>\n",
       "      <td>Yaris</td>\n",
       "      <td>U</td>\n",
       "      <td>Nordeste</td>\n",
       "      <td>2</td>\n",
       "    </tr>\n",
       "  </tbody>\n",
       "</table>\n",
       "<p>131419 rows × 6 columns</p>\n",
       "</div>"
      ],
      "text/plain": [
       "        DOWN_PAYMENT  QTD_PRAZO    MODELO_AGRP ESTADO_VEICULO NS_RANGE_REGIAO  \\\n",
       "0               0.57         24          Etios              N    Centro-Oeste   \n",
       "1               0.67         36        Corolla              N         Sudeste   \n",
       "2               0.28         36          Etios              N    Centro-Oeste   \n",
       "3               0.54         24          Etios              N        Nordeste   \n",
       "4               0.46         36        Corolla              N        Nordeste   \n",
       "...              ...        ...            ...            ...             ...   \n",
       "134230          0.45         36        Corolla              N    Centro-Oeste   \n",
       "134231          0.55         36         Outros              U             Sul   \n",
       "134232          0.39         60  Corolla Cross              N        Nordeste   \n",
       "134233          0.64         24  Corolla Cross              N         Sudeste   \n",
       "134234          0.57         60          Yaris              U        Nordeste   \n",
       "\n",
       "        IDADE_VEIC  \n",
       "0                0  \n",
       "1                0  \n",
       "2                0  \n",
       "3                0  \n",
       "4                0  \n",
       "...            ...  \n",
       "134230           0  \n",
       "134231           1  \n",
       "134232           0  \n",
       "134233           0  \n",
       "134234           2  \n",
       "\n",
       "[131419 rows x 6 columns]"
      ]
     },
     "execution_count": 30,
     "metadata": {},
     "output_type": "execute_result"
    }
   ],
   "source": [
    "X"
   ]
  },
  {
   "cell_type": "markdown",
   "metadata": {
    "id": "-2J_Yw5ZBJC-"
   },
   "source": [
    "###5.  Modelagem - Regressão Logística"
   ]
  },
  {
   "cell_type": "markdown",
   "metadata": {
    "id": "6_lzPlYG4fpa"
   },
   "source": [
    "Criando pipeline"
   ]
  },
  {
   "cell_type": "code",
   "execution_count": 31,
   "metadata": {
    "id": "shPCIIItvQTj"
   },
   "outputs": [],
   "source": [
    "cat_columns = X_train.select_dtypes(include=['object']).columns.tolist()\n",
    "num_columns = X_train.select_dtypes(exclude=['object']).columns.tolist()"
   ]
  },
  {
   "cell_type": "code",
   "execution_count": 32,
   "metadata": {
    "id": "KtAOuMF8vTEx"
   },
   "outputs": [],
   "source": [
    "pipe_cat_columns = ('one_hot_encoder', \n",
    "                          OneHotEncoder(handle_unknown='ignore'),\n",
    "                          cat_columns)\n",
    "\n",
    "pipe_num_columns = ('min_max_scaler',\n",
    "                          MinMaxScaler(), \n",
    "                          num_columns)"
   ]
  },
  {
   "cell_type": "code",
   "execution_count": 33,
   "metadata": {
    "id": "3oOuPS41wua8"
   },
   "outputs": [],
   "source": [
    "transformers = [pipe_cat_columns, pipe_num_columns]"
   ]
  },
  {
   "cell_type": "code",
   "execution_count": 34,
   "metadata": {
    "id": "sjQLXVEtw2Qg"
   },
   "outputs": [],
   "source": [
    "pre_processador = ColumnTransformer(transformers)"
   ]
  },
  {
   "cell_type": "code",
   "execution_count": 35,
   "metadata": {
    "id": "VT8nKstDvxI6"
   },
   "outputs": [],
   "source": [
    "model_reglog = Pipeline(steps=[('pre_processador', pre_processador), \n",
    "                               ('model', LogisticRegression())])"
   ]
  },
  {
   "cell_type": "markdown",
   "metadata": {
    "id": "AjpwKFj3-yfD"
   },
   "source": [
    "Obtendo melhores Hiperparâmetros por randomizedsearch"
   ]
  },
  {
   "cell_type": "code",
   "execution_count": 43,
   "metadata": {
    "id": "5Fz_p82T-xmK"
   },
   "outputs": [],
   "source": [
    "cv = RepeatedStratifiedKFold(n_splits=10, n_repeats=1, random_state=123)"
   ]
  },
  {
   "cell_type": "code",
   "execution_count": 44,
   "metadata": {
    "id": "QfAcylzf_BCC"
   },
   "outputs": [],
   "source": [
    "space = dict()\n",
    "space['model__solver'] = ['newton-cg', 'lbfgs', 'liblinear']\n",
    "space['model__penalty'] = ['none', 'l1', 'l2', 'elasticnet']\n",
    "space['model__C'] = loguniform(1e-5, 100)"
   ]
  },
  {
   "cell_type": "code",
   "execution_count": 45,
   "metadata": {
    "id": "l8sa9h2b_JXM"
   },
   "outputs": [],
   "source": [
    "search = RandomizedSearchCV(model_reglog, space, n_iter=200, scoring='accuracy', n_jobs=-1, cv=cv, random_state=123, verbose = 10)"
   ]
  },
  {
   "cell_type": "markdown",
   "metadata": {
    "id": "L8prYKXr4iI7"
   },
   "source": [
    "Realizando fit"
   ]
  },
  {
   "cell_type": "code",
   "execution_count": 46,
   "metadata": {
    "colab": {
     "base_uri": "https://localhost:8080/",
     "height": 1000
    },
    "id": "uQGi3K_ItSi-",
    "outputId": "5bbc1dc6-cba8-4ee0-ce54-48e1c71d50dc"
   },
   "outputs": [
    {
     "name": "stdout",
     "output_type": "stream",
     "text": [
      "Fitting 10 folds for each of 200 candidates, totalling 2000 fits\n"
     ]
    },
    {
     "name": "stderr",
     "output_type": "stream",
     "text": [
      "[Parallel(n_jobs=-1)]: Using backend LokyBackend with 4 concurrent workers.\n",
      "[Parallel(n_jobs=-1)]: Done   5 tasks      | elapsed:    8.8s\n",
      "[Parallel(n_jobs=-1)]: Done  10 tasks      | elapsed:   11.2s\n",
      "[Parallel(n_jobs=-1)]: Done  17 tasks      | elapsed:   14.6s\n",
      "[Parallel(n_jobs=-1)]: Done  24 tasks      | elapsed:   16.2s\n",
      "[Parallel(n_jobs=-1)]: Done  33 tasks      | elapsed:   20.4s\n",
      "[Parallel(n_jobs=-1)]: Done  42 tasks      | elapsed:   25.5s\n",
      "[Parallel(n_jobs=-1)]: Done  53 tasks      | elapsed:   29.3s\n",
      "[Parallel(n_jobs=-1)]: Done  64 tasks      | elapsed:   32.1s\n",
      "[Parallel(n_jobs=-1)]: Done  77 tasks      | elapsed:   39.1s\n",
      "[Parallel(n_jobs=-1)]: Done  90 tasks      | elapsed:   48.6s\n",
      "[Parallel(n_jobs=-1)]: Done 105 tasks      | elapsed:   59.1s\n",
      "[Parallel(n_jobs=-1)]: Done 120 tasks      | elapsed:  1.2min\n",
      "[Parallel(n_jobs=-1)]: Done 137 tasks      | elapsed:  1.3min\n",
      "[Parallel(n_jobs=-1)]: Done 154 tasks      | elapsed:  1.4min\n",
      "[Parallel(n_jobs=-1)]: Done 173 tasks      | elapsed:  1.5min\n",
      "[Parallel(n_jobs=-1)]: Done 192 tasks      | elapsed:  1.6min\n",
      "[Parallel(n_jobs=-1)]: Done 213 tasks      | elapsed:  1.8min\n",
      "[Parallel(n_jobs=-1)]: Done 234 tasks      | elapsed:  1.9min\n",
      "[Parallel(n_jobs=-1)]: Done 257 tasks      | elapsed:  2.1min\n",
      "[Parallel(n_jobs=-1)]: Done 280 tasks      | elapsed:  2.1min\n",
      "[Parallel(n_jobs=-1)]: Done 305 tasks      | elapsed:  2.4min\n",
      "[Parallel(n_jobs=-1)]: Done 330 tasks      | elapsed:  5.1min\n",
      "[Parallel(n_jobs=-1)]: Done 357 tasks      | elapsed:  5.5min\n",
      "[Parallel(n_jobs=-1)]: Done 384 tasks      | elapsed:  6.0min\n",
      "[Parallel(n_jobs=-1)]: Done 413 tasks      | elapsed:  6.5min\n",
      "[Parallel(n_jobs=-1)]: Done 442 tasks      | elapsed:  6.7min\n",
      "[Parallel(n_jobs=-1)]: Done 473 tasks      | elapsed:  7.0min\n",
      "[Parallel(n_jobs=-1)]: Done 504 tasks      | elapsed:  7.3min\n",
      "[Parallel(n_jobs=-1)]: Done 537 tasks      | elapsed:  7.4min\n",
      "[Parallel(n_jobs=-1)]: Done 570 tasks      | elapsed:  7.8min\n",
      "[Parallel(n_jobs=-1)]: Done 605 tasks      | elapsed:  8.0min\n",
      "[Parallel(n_jobs=-1)]: Done 640 tasks      | elapsed:  8.2min\n",
      "[Parallel(n_jobs=-1)]: Done 677 tasks      | elapsed:  8.5min\n",
      "[Parallel(n_jobs=-1)]: Done 714 tasks      | elapsed:  8.7min\n",
      "[Parallel(n_jobs=-1)]: Done 753 tasks      | elapsed:  9.0min\n",
      "[Parallel(n_jobs=-1)]: Done 792 tasks      | elapsed:  9.2min\n",
      "[Parallel(n_jobs=-1)]: Done 833 tasks      | elapsed:  9.6min\n",
      "[Parallel(n_jobs=-1)]: Done 874 tasks      | elapsed: 10.0min\n",
      "[Parallel(n_jobs=-1)]: Done 917 tasks      | elapsed: 10.3min\n",
      "[Parallel(n_jobs=-1)]: Done 960 tasks      | elapsed: 10.9min\n",
      "[Parallel(n_jobs=-1)]: Done 1005 tasks      | elapsed: 11.1min\n",
      "[Parallel(n_jobs=-1)]: Done 1050 tasks      | elapsed: 11.6min\n",
      "[Parallel(n_jobs=-1)]: Done 1097 tasks      | elapsed: 11.9min\n",
      "[Parallel(n_jobs=-1)]: Done 1144 tasks      | elapsed: 12.3min\n",
      "[Parallel(n_jobs=-1)]: Done 1193 tasks      | elapsed: 12.6min\n",
      "[Parallel(n_jobs=-1)]: Done 1242 tasks      | elapsed: 12.9min\n",
      "[Parallel(n_jobs=-1)]: Done 1293 tasks      | elapsed: 13.5min\n",
      "[Parallel(n_jobs=-1)]: Done 1344 tasks      | elapsed: 13.7min\n",
      "[Parallel(n_jobs=-1)]: Done 1397 tasks      | elapsed: 16.4min\n",
      "[Parallel(n_jobs=-1)]: Done 1450 tasks      | elapsed: 17.1min\n",
      "[Parallel(n_jobs=-1)]: Done 1505 tasks      | elapsed: 17.8min\n",
      "[Parallel(n_jobs=-1)]: Done 1560 tasks      | elapsed: 18.5min\n",
      "[Parallel(n_jobs=-1)]: Done 1617 tasks      | elapsed: 21.5min\n",
      "[Parallel(n_jobs=-1)]: Done 1674 tasks      | elapsed: 22.4min\n",
      "[Parallel(n_jobs=-1)]: Done 1733 tasks      | elapsed: 22.7min\n",
      "[Parallel(n_jobs=-1)]: Done 1792 tasks      | elapsed: 23.1min\n",
      "[Parallel(n_jobs=-1)]: Done 1853 tasks      | elapsed: 23.6min\n",
      "[Parallel(n_jobs=-1)]: Done 1914 tasks      | elapsed: 25.5min\n",
      "[Parallel(n_jobs=-1)]: Done 1977 tasks      | elapsed: 25.9min\n",
      "[Parallel(n_jobs=-1)]: Done 2000 out of 2000 | elapsed: 25.9min finished\n"
     ]
    },
    {
     "data": {
      "text/plain": [
       "RandomizedSearchCV(cv=RepeatedStratifiedKFold(n_repeats=1, n_splits=10, random_state=123),\n",
       "                   estimator=Pipeline(steps=[('pre_processador',\n",
       "                                              ColumnTransformer(transformers=[('one_hot_encoder',\n",
       "                                                                               OneHotEncoder(handle_unknown='ignore'),\n",
       "                                                                               ['MODELO_AGRP',\n",
       "                                                                                'ESTADO_VEICULO',\n",
       "                                                                                'NS_RANGE_REGIAO']),\n",
       "                                                                              ('min_max_scaler',\n",
       "                                                                               MinMaxScaler(),\n",
       "                                                                               ['DOWN_PAYMENT',\n",
       "                                                                                'QTD_PRAZO',\n",
       "                                                                                'IDADE_VEIC'])])),\n",
       "                                             ('model', LogisticRegression())]),\n",
       "                   n_iter=200, n_jobs=-1,\n",
       "                   param_distributions={'model__C': <scipy.stats._distn_infrastructure.rv_frozen object at 0x0000027CE87133A0>,\n",
       "                                        'model__penalty': ['none', 'l1', 'l2',\n",
       "                                                           'elasticnet'],\n",
       "                                        'model__solver': ['newton-cg', 'lbfgs',\n",
       "                                                          'liblinear']},\n",
       "                   random_state=123, scoring='accuracy', verbose=10)"
      ]
     },
     "execution_count": 46,
     "metadata": {},
     "output_type": "execute_result"
    }
   ],
   "source": [
    "search.fit(X_train, y_train)"
   ]
  },
  {
   "cell_type": "code",
   "execution_count": 47,
   "metadata": {},
   "outputs": [
    {
     "name": "stdout",
     "output_type": "stream",
     "text": [
      "{'model__C': 0.1159909591318349, 'model__penalty': 'l1', 'model__solver': 'liblinear'}\n",
      "0.6810189589195956\n"
     ]
    }
   ],
   "source": [
    "melhores_parametros = search.best_params_\n",
    "melhor_resultado = search.best_score_\n",
    "print(melhores_parametros)\n",
    "print(melhor_resultado)"
   ]
  },
  {
   "cell_type": "code",
   "execution_count": 49,
   "metadata": {},
   "outputs": [],
   "source": [
    "model_reglog = Pipeline(steps=[('pre_processador', pre_processador), \n",
    "                               ('model', LogisticRegression(C = 0.1159909591318349, penalty = 'l1', solver = 'liblinear'))])"
   ]
  },
  {
   "cell_type": "code",
   "execution_count": 50,
   "metadata": {},
   "outputs": [
    {
     "data": {
      "text/plain": [
       "Pipeline(steps=[('pre_processador',\n",
       "                 ColumnTransformer(transformers=[('one_hot_encoder',\n",
       "                                                  OneHotEncoder(handle_unknown='ignore'),\n",
       "                                                  ['MODELO_AGRP',\n",
       "                                                   'ESTADO_VEICULO',\n",
       "                                                   'NS_RANGE_REGIAO']),\n",
       "                                                 ('min_max_scaler',\n",
       "                                                  MinMaxScaler(),\n",
       "                                                  ['DOWN_PAYMENT', 'QTD_PRAZO',\n",
       "                                                   'IDADE_VEIC'])])),\n",
       "                ('model',\n",
       "                 LogisticRegression(C=0.1159909591318349, penalty='l1',\n",
       "                                    solver='liblinear'))])"
      ]
     },
     "execution_count": 50,
     "metadata": {},
     "output_type": "execute_result"
    }
   ],
   "source": [
    "model_reglog.fit(X_train, y_train)"
   ]
  },
  {
   "cell_type": "markdown",
   "metadata": {
    "id": "q69T5MaL4ksq"
   },
   "source": [
    "Realizando predict"
   ]
  },
  {
   "cell_type": "code",
   "execution_count": 51,
   "metadata": {
    "colab": {
     "base_uri": "https://localhost:8080/",
     "height": 311
    },
    "id": "_Dr9KaUIyuj_",
    "outputId": "61d63277-e4ae-402f-ef80-08d0ea39634b"
   },
   "outputs": [],
   "source": [
    "y_pred = model_reglog.predict(X_test)"
   ]
  },
  {
   "cell_type": "code",
   "execution_count": 52,
   "metadata": {
    "id": "sRNsZzjGzdlH"
   },
   "outputs": [],
   "source": [
    "def plot_confusion_matrix(y_test, y_pred):\n",
    "    sns.heatmap(confusion_matrix(y_test, y_pred), annot=True, cbar=False, cmap=matplotlib.cm.get_cmap('gist_yarg'))\n",
    "    plt.ylabel('Observed')\n",
    "    plt.xlabel('Predicted')\n",
    "    plt.xticks([0.5, 1.5], ['Mais que 10', 'Antecipou menos que 10'])\n",
    "    plt.yticks([0.5, 1.5], ['Mais que 10', 'Antecipou menos que 10'], rotation='horizontal')\n",
    "    ax = plt.gca()\n",
    "    ax.xaxis.set_ticks_position('top')\n",
    "    ax.xaxis.set_label_position('top')"
   ]
  },
  {
   "cell_type": "markdown",
   "metadata": {
    "id": "ZwtA7her4nrp"
   },
   "source": [
    "Acurácia"
   ]
  },
  {
   "cell_type": "code",
   "execution_count": 57,
   "metadata": {
    "colab": {
     "base_uri": "https://localhost:8080/"
    },
    "id": "EZ9H-v4Sy9KM",
    "outputId": "21cf8f2e-0399-405b-bc55-4fbf7810e98a"
   },
   "outputs": [
    {
     "name": "stdout",
     "output_type": "stream",
     "text": [
      "Accuracy test: 0.680457421136161\n"
     ]
    }
   ],
   "source": [
    "# imprimindo a acurácia\n",
    "print(\"Accuracy test:\",metrics.accuracy_score(y_test, y_pred))"
   ]
  },
  {
   "cell_type": "markdown",
   "metadata": {
    "id": "FqYiYYkt4o94"
   },
   "source": [
    "Matriz de confusão"
   ]
  },
  {
   "cell_type": "code",
   "execution_count": 58,
   "metadata": {
    "colab": {
     "base_uri": "https://localhost:8080/",
     "height": 277
    },
    "id": "FtCKDpZrztda",
    "outputId": "9aca7a80-dbec-4142-b053-3192cdba799e"
   },
   "outputs": [
    {
     "data": {
      "image/png": "[encoded data removed]",
      "text/plain": [
       "<Figure size 432x288 with 1 Axes>"
      ]
     },
     "metadata": {
      "needs_background": "light"
     },
     "output_type": "display_data"
    }
   ],
   "source": [
    "plot_confusion_matrix(y_test, y_pred)"
   ]
  }
 ],
 "metadata": {
  "colab": {
   "collapsed_sections": [],
   "provenance": []
  },
  "kernelspec": {
   "display_name": "Python 3",
   "language": "python",
   "name": "python3"
  },
  "language_info": {
   "codemirror_mode": {
    "name": "ipython",
    "version": 3
   },
   "file_extension": ".py",
   "mimetype": "text/x-python",
   "name": "python",
   "nbconvert_exporter": "python",
   "pygments_lexer": "ipython3",
   "version": "3.8.3"
  }
 },
 "nbformat": 4,
 "nbformat_minor": 1
}
